{
 "cells": [
  {
   "cell_type": "code",
   "execution_count": 1,
   "metadata": {},
   "outputs": [],
   "source": [
    "import numpy as np\n",
    "import gym\n",
    "import torch\n",
    "import random\n",
    "import time"
   ]
  },
  {
   "cell_type": "code",
   "execution_count": 2,
   "metadata": {},
   "outputs": [
    {
     "data": {
      "text/plain": [
       "0"
      ]
     },
     "execution_count": 2,
     "metadata": {},
     "output_type": "execute_result"
    }
   ],
   "source": [
    "env = gym.make(\"FrozenLake-v0\")\n",
    "state = env.reset()\n",
    "state"
   ]
  },
  {
   "cell_type": "code",
   "execution_count": 3,
   "metadata": {},
   "outputs": [],
   "source": [
    "num_episodes = 100000\n",
    "max_steps_per_episode = 200\n",
    "\n",
    "learnring_rate = 0.1\n",
    "discount_rate =0.9\n",
    "\n",
    "exploration_rate = 1\n",
    "min_exploration_rate = 0.001\n",
    "max_exploration_rate = 1\n",
    "exploration_decay_rate = 0.003"
   ]
  },
  {
   "cell_type": "code",
   "execution_count": 4,
   "metadata": {},
   "outputs": [
    {
     "data": {
      "text/plain": [
       "16"
      ]
     },
     "execution_count": 4,
     "metadata": {},
     "output_type": "execute_result"
    }
   ],
   "source": [
    "env.observation_space.n"
   ]
  },
  {
   "cell_type": "code",
   "execution_count": 5,
   "metadata": {},
   "outputs": [
    {
     "data": {
      "text/plain": [
       "array([[0., 0., 0., 0.],\n",
       "       [0., 0., 0., 0.],\n",
       "       [0., 0., 0., 0.],\n",
       "       [0., 0., 0., 0.],\n",
       "       [0., 0., 0., 0.],\n",
       "       [0., 0., 0., 0.],\n",
       "       [0., 0., 0., 0.],\n",
       "       [0., 0., 0., 0.],\n",
       "       [0., 0., 0., 0.],\n",
       "       [0., 0., 0., 0.],\n",
       "       [0., 0., 0., 0.],\n",
       "       [0., 0., 0., 0.],\n",
       "       [0., 0., 0., 0.],\n",
       "       [0., 0., 0., 0.],\n",
       "       [0., 0., 0., 0.],\n",
       "       [0., 0., 0., 0.]])"
      ]
     },
     "execution_count": 5,
     "metadata": {},
     "output_type": "execute_result"
    }
   ],
   "source": [
    "state_space_size = env.observation_space.n\n",
    "action_space_size = env.action_space.n\n",
    "\n",
    "q_table = np.zeros((state_space_size, action_space_size))\n",
    "q_table"
   ]
  },
  {
   "cell_type": "code",
   "execution_count": 6,
   "metadata": {},
   "outputs": [],
   "source": [
    "rewards_all_episodes= []\n",
    "for episode in range(num_episodes):\n",
    "    state = env.reset()\n",
    "        \n",
    "    done = False\n",
    "    rewards = 0\n",
    "    for step in range(max_steps_per_episode):\n",
    "        \n",
    "        # Exploration-exploitation trade-off\n",
    "        exploration_random = random.uniform(0,1)\n",
    "        if  exploration_random > exploration_rate:\n",
    "            #print(\"using policy - exploitation\")\n",
    "            action = np.argmax(q_table[state, :])\n",
    "        else:\n",
    "            action = env.action_space.sample()\n",
    "            #print(\"exploration\", state, action)\n",
    "        \n",
    "        # Take new action\n",
    "        new_state, reward, done, info = env.step(action)\n",
    "        \n",
    "        # Update Q-table\n",
    "        q_table[state, action] = (1-learnring_rate) * q_table[state, action] +  \\\n",
    "                                 learnring_rate * (reward + discount_rate * np.max(q_table[new_state, :]))  \n",
    "        \n",
    "        state = new_state\n",
    "        rewards += reward \n",
    "        \n",
    "        if done == True: \n",
    "            break\n",
    "    \n",
    "    # Exploration rate decay\n",
    "    exploration_rate = min_exploration_rate + \\\n",
    "    (max_exploration_rate - min_exploration_rate) * np.exp(-exploration_decay_rate*episode)\n",
    "    \n",
    "    rewards_all_episodes.append(rewards)"
   ]
  },
  {
   "cell_type": "code",
   "execution_count": 7,
   "metadata": {},
   "outputs": [
    {
     "data": {
      "text/plain": [
       "array([[0.0385139 , 0.03763396, 0.0723246 , 0.03272634],\n",
       "       [0.0272031 , 0.02678068, 0.0320454 , 0.05338485],\n",
       "       [0.03070431, 0.03088893, 0.06904674, 0.03359133],\n",
       "       [0.02195296, 0.02766177, 0.02294736, 0.04642389],\n",
       "       [0.10168758, 0.04761009, 0.03640014, 0.03762939],\n",
       "       [0.        , 0.        , 0.        , 0.        ],\n",
       "       [0.1199263 , 0.02599748, 0.03186477, 0.01675023],\n",
       "       [0.        , 0.        , 0.        , 0.        ],\n",
       "       [0.07241244, 0.06979899, 0.06458645, 0.16018495],\n",
       "       [0.13821211, 0.22892139, 0.11356702, 0.1361748 ],\n",
       "       [0.23063017, 0.14192529, 0.10070992, 0.09547503],\n",
       "       [0.        , 0.        , 0.        , 0.        ],\n",
       "       [0.        , 0.        , 0.        , 0.        ],\n",
       "       [0.12835819, 0.20719701, 0.45923121, 0.15362899],\n",
       "       [0.37311096, 0.74142224, 0.41417691, 0.37851984],\n",
       "       [0.        , 0.        , 0.        , 0.        ]])"
      ]
     },
     "execution_count": 7,
     "metadata": {},
     "output_type": "execute_result"
    }
   ],
   "source": [
    "q_table"
   ]
  },
  {
   "cell_type": "code",
   "execution_count": 8,
   "metadata": {},
   "outputs": [
    {
     "data": {
      "text/plain": [
       "0.001"
      ]
     },
     "execution_count": 8,
     "metadata": {},
     "output_type": "execute_result"
    }
   ],
   "source": [
    "exploration_rate = min_exploration_rate + \\\n",
    "(max_exploration_rate - min_exploration_rate) * np.exp(-exploration_decay_rate*30000)\n",
    "exploration_rate    "
   ]
  },
  {
   "cell_type": "code",
   "execution_count": 9,
   "metadata": {},
   "outputs": [
    {
     "data": {
      "text/plain": [
       "[0.0, 0.0, 1.0, 0.0, 0.0, 1.0, 0.0, 1.0, 1.0, 1.0]"
      ]
     },
     "execution_count": 9,
     "metadata": {},
     "output_type": "execute_result"
    }
   ],
   "source": [
    "rewards_all_episodes[-10:]"
   ]
  },
  {
   "cell_type": "code",
   "execution_count": 10,
   "metadata": {},
   "outputs": [
    {
     "name": "stdout",
     "output_type": "stream",
     "text": [
      "********Average reward per thousand episodes********\n",
      "\n",
      "1000 :  0.07600000000000005\n",
      "2000 :  0.33100000000000024\n",
      "3000 :  0.44300000000000034\n",
      "4000 :  0.6030000000000004\n",
      "5000 :  0.5620000000000004\n",
      "6000 :  0.5440000000000004\n",
      "7000 :  0.4960000000000004\n",
      "8000 :  0.43900000000000033\n",
      "9000 :  0.5080000000000003\n",
      "10000 :  0.5340000000000004\n",
      "11000 :  0.5370000000000004\n",
      "12000 :  0.6200000000000004\n",
      "13000 :  0.6220000000000004\n",
      "14000 :  0.5850000000000004\n",
      "15000 :  0.5290000000000004\n",
      "16000 :  0.5000000000000003\n",
      "17000 :  0.47700000000000037\n",
      "18000 :  0.4130000000000003\n",
      "19000 :  0.5180000000000003\n",
      "20000 :  0.5110000000000003\n",
      "21000 :  0.5430000000000004\n",
      "22000 :  0.5210000000000004\n",
      "23000 :  0.5320000000000004\n",
      "24000 :  0.5820000000000004\n",
      "25000 :  0.5960000000000004\n",
      "26000 :  0.5280000000000004\n",
      "27000 :  0.6710000000000005\n",
      "28000 :  0.6380000000000005\n",
      "29000 :  0.6740000000000005\n",
      "30000 :  0.5630000000000004\n",
      "31000 :  0.6940000000000005\n",
      "32000 :  0.6720000000000005\n",
      "33000 :  0.7320000000000005\n",
      "34000 :  0.6410000000000005\n",
      "35000 :  0.6180000000000004\n",
      "36000 :  0.6940000000000005\n",
      "37000 :  0.7090000000000005\n",
      "38000 :  0.6120000000000004\n",
      "39000 :  0.6730000000000005\n",
      "40000 :  0.5060000000000003\n",
      "41000 :  0.7100000000000005\n",
      "42000 :  0.4840000000000004\n",
      "43000 :  0.4900000000000004\n",
      "44000 :  0.6830000000000005\n",
      "45000 :  0.6120000000000004\n",
      "46000 :  0.5640000000000004\n",
      "47000 :  0.6220000000000004\n",
      "48000 :  0.44800000000000034\n",
      "49000 :  0.5110000000000003\n",
      "50000 :  0.4840000000000004\n",
      "51000 :  0.6140000000000004\n",
      "52000 :  0.6290000000000004\n",
      "53000 :  0.5030000000000003\n",
      "54000 :  0.6590000000000005\n",
      "55000 :  0.5540000000000004\n",
      "56000 :  0.4940000000000004\n",
      "57000 :  0.6580000000000005\n",
      "58000 :  0.7160000000000005\n",
      "59000 :  0.5440000000000004\n",
      "60000 :  0.6350000000000005\n",
      "61000 :  0.5630000000000004\n",
      "62000 :  0.4210000000000003\n",
      "63000 :  0.5130000000000003\n",
      "64000 :  0.5070000000000003\n",
      "65000 :  0.5400000000000004\n",
      "66000 :  0.6610000000000005\n",
      "67000 :  0.4300000000000003\n",
      "68000 :  0.46900000000000036\n",
      "69000 :  0.5220000000000004\n",
      "70000 :  0.6840000000000005\n",
      "71000 :  0.6580000000000005\n",
      "72000 :  0.6000000000000004\n",
      "73000 :  0.7200000000000005\n",
      "74000 :  0.6200000000000004\n",
      "75000 :  0.4830000000000004\n",
      "76000 :  0.7410000000000005\n",
      "77000 :  0.6930000000000005\n",
      "78000 :  0.6060000000000004\n",
      "79000 :  0.6990000000000005\n",
      "80000 :  0.5840000000000004\n",
      "81000 :  0.5240000000000004\n",
      "82000 :  0.4900000000000004\n",
      "83000 :  0.5210000000000004\n",
      "84000 :  0.44100000000000034\n",
      "85000 :  0.5140000000000003\n",
      "86000 :  0.5080000000000003\n",
      "87000 :  0.4850000000000004\n",
      "88000 :  0.6520000000000005\n",
      "89000 :  0.6050000000000004\n",
      "90000 :  0.6440000000000005\n",
      "91000 :  0.6020000000000004\n",
      "92000 :  0.5190000000000003\n",
      "93000 :  0.5550000000000004\n",
      "94000 :  0.5740000000000004\n",
      "95000 :  0.5030000000000003\n",
      "96000 :  0.5030000000000003\n",
      "97000 :  0.5370000000000004\n",
      "98000 :  0.6630000000000005\n",
      "99000 :  0.5610000000000004\n",
      "100000 :  0.4050000000000003\n"
     ]
    }
   ],
   "source": [
    "# Calculate and print the average reward per thousand episodes\n",
    "rewards_per_thousand_episodes = np.split(np.array(rewards_all_episodes),num_episodes/1000)\n",
    "count = 1000\n",
    "\n",
    "print(\"********Average reward per thousand episodes********\\n\")\n",
    "for r in rewards_per_thousand_episodes:\n",
    "    print(count, \": \", str(sum(r/1000)))\n",
    "    count += 1000"
   ]
  },
  {
   "cell_type": "markdown",
   "metadata": {},
   "source": [
    "## visualization"
   ]
  },
  {
   "cell_type": "code",
   "execution_count": 11,
   "metadata": {},
   "outputs": [],
   "source": [
    "from IPython import display"
   ]
  },
  {
   "cell_type": "code",
   "execution_count": 12,
   "metadata": {},
   "outputs": [
    {
     "name": "stdout",
     "output_type": "stream",
     "text": [
      "\n",
      "\u001b[41mS\u001b[0mFFF\n",
      "FHFH\n",
      "FFFH\n",
      "HFFG\n"
     ]
    },
    {
     "data": {
      "text/plain": [
       "0"
      ]
     },
     "execution_count": 12,
     "metadata": {},
     "output_type": "execute_result"
    }
   ],
   "source": [
    "state = env.reset()\n",
    "env.render()\n",
    "state"
   ]
  },
  {
   "cell_type": "code",
   "execution_count": 13,
   "metadata": {},
   "outputs": [
    {
     "data": {
      "text/plain": [
       "(array([0.0385139 , 0.03763396, 0.0723246 , 0.03272634]), 2)"
      ]
     },
     "execution_count": 13,
     "metadata": {},
     "output_type": "execute_result"
    }
   ],
   "source": [
    "q_table[state, :], np.argmax(q_table[state, :] )"
   ]
  },
  {
   "cell_type": "code",
   "execution_count": 14,
   "metadata": {},
   "outputs": [
    {
     "name": "stdout",
     "output_type": "stream",
     "text": [
      "  (Left)\n",
      "SFFF\n",
      "F\u001b[41mH\u001b[0mFH\n",
      "FFFH\n",
      "HFFG\n"
     ]
    }
   ],
   "source": [
    "state = env.reset()\n",
    "for setp in range(500):\n",
    "\n",
    "    action = np.argmax(q_table[state, :] )\n",
    "    new_state, reward, done, info = env.step(action)\n",
    "    state = new_state\n",
    "    \n",
    "    display.clear_output(wait=True)\n",
    "    env.render()\n",
    "    time.sleep(0.2)\n",
    "    \n",
    "    if done: break"
   ]
  }
 ],
 "metadata": {
  "kernelspec": {
   "display_name": "Python 3",
   "language": "python",
   "name": "python3"
  },
  "language_info": {
   "codemirror_mode": {
    "name": "ipython",
    "version": 3
   },
   "file_extension": ".py",
   "mimetype": "text/x-python",
   "name": "python",
   "nbconvert_exporter": "python",
   "pygments_lexer": "ipython3",
   "version": "3.7.7"
  }
 },
 "nbformat": 4,
 "nbformat_minor": 4
}

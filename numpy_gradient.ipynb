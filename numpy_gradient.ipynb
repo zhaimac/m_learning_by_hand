{
 "cells": [
  {
   "cell_type": "code",
   "execution_count": 1,
   "id": "0d9bdb5d",
   "metadata": {},
   "outputs": [],
   "source": [
    "import numpy as np"
   ]
  },
  {
   "cell_type": "code",
   "execution_count": 2,
   "id": "54c282ac",
   "metadata": {},
   "outputs": [],
   "source": [
    "x = np.array([1,2,3,4,5])\n",
    "y = np.array([3,5,7,9,11])"
   ]
  },
  {
   "cell_type": "code",
   "execution_count": 3,
   "id": "46eff4ee",
   "metadata": {},
   "outputs": [],
   "source": [
    "def forward(x, w, b):\n",
    "    return w*x + b"
   ]
  },
  {
   "cell_type": "code",
   "execution_count": 4,
   "id": "b9e97e88",
   "metadata": {},
   "outputs": [],
   "source": [
    "# MSE\n",
    "# 1/N (w*x+b-y)**2\n",
    "def loss(y, yhat):\n",
    "    return ((yhat-y)**2).mean()"
   ]
  },
  {
   "cell_type": "code",
   "execution_count": 5,
   "id": "a01926f7",
   "metadata": {},
   "outputs": [],
   "source": [
    "# dj/dw = 1/N*2*x*(w*x+b-y)\n",
    "def gradient_w(x, y, yhat):\n",
    "    return np.dot(2*x, yhat-y).mean() "
   ]
  },
  {
   "cell_type": "code",
   "execution_count": 6,
   "id": "4e0085f8",
   "metadata": {},
   "outputs": [],
   "source": [
    "# dj/db = 1/N*2(w*x+b-y)\n",
    "def gradient_b(y, yhat):\n",
    "    return 2*(yhat-y).mean() "
   ]
  },
  {
   "cell_type": "code",
   "execution_count": 9,
   "id": "2d99f6a6",
   "metadata": {},
   "outputs": [
    {
     "name": "stdout",
     "output_type": "stream",
     "text": [
      "0 0 loss= 57.0\n",
      "  0: gradient of w = -250.0\n",
      "  0: gradient of b = -14.0\n",
      "2.167674874794866 0.3871946613437214 loss= 0.06828153250094837\n",
      "  100: gradient of w = 0.06007606774693208\n",
      "  100: gradient of b = -0.21956142854335958\n",
      "2.117107745864458 0.5720035458410856 loss= 0.03330723042141519\n",
      "  200: gradient of w = 0.04195842032294905\n",
      "  200: gradient of b = -0.15334643313108068\n",
      "2.0817905733237168 0.7010780533109068 loss= 0.016247022550787703\n",
      "  300: gradient of w = 0.029304664936044666\n",
      "  300: gradient of b = -0.10710045343588614\n",
      "2.0571242989542724 0.7912264708173963 loss= 0.007925178359954023\n",
      "  400: gradient of w = 0.02046700949184732\n",
      "  400: gradient of b = -0.07480126463957326\n",
      "2.0398968413890657 0.8541880682561813 loss= 0.0038658438394325112\n",
      "  500: gradient of w = 0.014294600482677389\n",
      "  500: gradient of b = -0.05224281515324254\n",
      "2.0278648137826334 0.8981618046976251 loss= 0.0018857302526331054\n",
      "  600: gradient of w = 0.009983657018437953\n",
      "  600: gradient of b = -0.036487507908949016\n",
      "2.019461386418265 0.928874009839841 loss= 0.0009198453774629387\n",
      "  700: gradient of w = 0.006972801204393697\n",
      "  700: gradient of b = -0.025483661810727122\n",
      "2.013592251657432 0.9503240757434644 loss= 0.00044869382418748617\n",
      "  800: gradient of w = 0.0048699546214416856\n",
      "  800: gradient of b = -0.0177983385684799\n",
      "2.009493121463616 0.9653052640084956 loss= 0.0002188695543801816\n",
      "  900: gradient of w = 0.003401281252646271\n",
      "  900: gradient of b = -0.012430743201311855\n"
     ]
    }
   ],
   "source": [
    "w,b=0,0\n",
    "n_iters = 1000\n",
    "for epoch in range(n_iters):\n",
    "    yhat = forward(x, w, b)\n",
    "    dw = gradient_w(x, y, yhat)\n",
    "    db = gradient_b(y, yhat)\n",
    "\n",
    "    if epoch%100==0:\n",
    "        print(w,b, f\"loss= {loss(y, yhat)}\")\n",
    "        print(f\"  {epoch}: gradient of w = {gradient_w(x, y, yhat)}\")\n",
    "        print(f\"  {epoch}: gradient of b = {gradient_b(y, yhat)}\")\n",
    "\n",
    "    w -= 0.01*dw\n",
    "    b -= 0.01*db"
   ]
  },
  {
   "cell_type": "code",
   "execution_count": 8,
   "id": "41fbe398",
   "metadata": {},
   "outputs": [
    {
     "data": {
      "text/plain": [
       "21.000000000000032"
      ]
     },
     "execution_count": 8,
     "metadata": {},
     "output_type": "execute_result"
    }
   ],
   "source": [
    "forward(10, w, b)"
   ]
  }
 ],
 "metadata": {
  "kernelspec": {
   "display_name": "Python 3",
   "language": "python",
   "name": "python3"
  },
  "language_info": {
   "codemirror_mode": {
    "name": "ipython",
    "version": 3
   },
   "file_extension": ".py",
   "mimetype": "text/x-python",
   "name": "python",
   "nbconvert_exporter": "python",
   "pygments_lexer": "ipython3",
   "version": "3.9.4"
  }
 },
 "nbformat": 4,
 "nbformat_minor": 5
}

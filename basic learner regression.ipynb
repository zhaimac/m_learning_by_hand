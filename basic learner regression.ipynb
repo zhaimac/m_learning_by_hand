{
 "cells": [
  {
   "cell_type": "code",
   "execution_count": 1,
   "id": "bridal-assurance",
   "metadata": {},
   "outputs": [],
   "source": [
    "import torch\n",
    "import torch.nn as nn\n",
    "import numpy as np\n",
    "from sklearn import datasets\n",
    "import matplotlib.pyplot as plt"
   ]
  },
  {
   "cell_type": "code",
   "execution_count": 2,
   "id": "vocal-distance",
   "metadata": {},
   "outputs": [
    {
     "data": {
      "text/plain": [
       "<matplotlib.collections.PathCollection at 0x7f2af92a46a0>"
      ]
     },
     "execution_count": 2,
     "metadata": {},
     "output_type": "execute_result"
    },
    {
     "data": {
      "image/png": "[encoded data removed]",
      "text/plain": [
       "<Figure size 432x288 with 1 Axes>"
      ]
     },
     "metadata": {
      "needs_background": "light"
     },
     "output_type": "display_data"
    }
   ],
   "source": [
    "X, Y = datasets.make_regression(n_samples=100, n_features=1, noise=3, random_state=14)\n",
    "plt.scatter(X, Y)"
   ]
  },
  {
   "cell_type": "code",
   "execution_count": 3,
   "id": "marked-think",
   "metadata": {},
   "outputs": [
    {
     "data": {
      "text/plain": [
       "(torch.Size([100, 1]), torch.Size([100, 1]))"
      ]
     },
     "execution_count": 3,
     "metadata": {},
     "output_type": "execute_result"
    }
   ],
   "source": [
    "X = torch.from_numpy(X.astype(np.float32))\n",
    "Y = torch.from_numpy(Y.astype(np.float32)).view([-1, 1])\n",
    "X.shape, Y.shape"
   ]
  },
  {
   "cell_type": "code",
   "execution_count": 4,
   "id": "progressive-pipeline",
   "metadata": {},
   "outputs": [],
   "source": [
    "n_samples, n_features = X.shape"
   ]
  },
  {
   "cell_type": "markdown",
   "id": "tutorial-religion",
   "metadata": {},
   "source": [
    "# model"
   ]
  },
  {
   "cell_type": "code",
   "execution_count": 5,
   "id": "fewer-wrong",
   "metadata": {},
   "outputs": [],
   "source": [
    "model = nn.Linear(n_features, n_features)\n",
    "loss_func = nn.MSELoss()\n",
    "optimizer = torch.optim.SGD(params=model.parameters(), lr=0.01)"
   ]
  },
  {
   "cell_type": "code",
   "execution_count": 6,
   "id": "floppy-fancy",
   "metadata": {},
   "outputs": [
    {
     "data": {
      "text/plain": [
       "[Parameter containing:\n",
       " tensor([[-0.7386]], requires_grad=True),\n",
       " Parameter containing:\n",
       " tensor([0.6049], requires_grad=True)]"
      ]
     },
     "execution_count": 6,
     "metadata": {},
     "output_type": "execute_result"
    }
   ],
   "source": [
    "list(model.parameters())"
   ]
  },
  {
   "cell_type": "code",
   "execution_count": 10,
   "id": "close-bloom",
   "metadata": {},
   "outputs": [
    {
     "name": "stdout",
     "output_type": "stream",
     "text": [
      "#epoch0 - loss=11.844682693481445 \n",
      "#epoch10 - loss=11.844682693481445 \n",
      "#epoch20 - loss=11.844682693481445 \n",
      "#epoch30 - loss=11.844682693481445 \n",
      "#epoch40 - loss=11.844682693481445 \n",
      "#epoch50 - loss=11.844682693481445 \n",
      "#epoch60 - loss=11.844682693481445 \n",
      "#epoch70 - loss=11.844682693481445 \n",
      "#epoch80 - loss=11.844682693481445 \n",
      "#epoch90 - loss=11.844682693481445 \n",
      "#epoch100 - loss=11.844682693481445 \n",
      "#epoch110 - loss=11.844682693481445 \n",
      "#epoch120 - loss=11.844682693481445 \n",
      "#epoch130 - loss=11.844682693481445 \n",
      "#epoch140 - loss=11.844682693481445 \n",
      "#epoch150 - loss=11.844682693481445 \n",
      "#epoch160 - loss=11.844682693481445 \n",
      "#epoch170 - loss=11.844682693481445 \n",
      "#epoch180 - loss=11.844682693481445 \n",
      "#epoch190 - loss=11.844682693481445 \n"
     ]
    }
   ],
   "source": [
    "epoch=200\n",
    "for x in range(epoch):\n",
    "    # forward\n",
    "    y_hat = model(X)\n",
    "    loss = loss_func(y_hat, Y)\n",
    "    \n",
    "    #backward\n",
    "    loss.backward()\n",
    "    \n",
    "    #updatee\n",
    "    optimizer.step()\n",
    "    optimizer.zero_grad()\n",
    "    if x%10==0:\n",
    "        print(f\"#epoch{x} - loss={loss.item()} \")"
   ]
  },
  {
   "cell_type": "code",
   "execution_count": 8,
   "id": "looking-details",
   "metadata": {},
   "outputs": [
    {
     "data": {
      "text/plain": [
       "[<matplotlib.lines.Line2D at 0x7f2af71b5550>]"
      ]
     },
     "execution_count": 8,
     "metadata": {},
     "output_type": "execute_result"
    },
    {
     "data": {
      "image/png": "[encoded data removed]",
      "text/plain": [
       "<Figure size 432x288 with 1 Axes>"
      ]
     },
     "metadata": {
      "needs_background": "light"
     },
     "output_type": "display_data"
    }
   ],
   "source": [
    "with torch.no_grad():\n",
    "    y_hat= model(X.clone().detach())\n",
    "\n",
    "plt.scatter(X, Y)\n",
    "plt.plot(X,y_hat)"
   ]
  }
 ],
 "metadata": {
  "kernelspec": {
   "display_name": "user-venv",
   "language": "python",
   "name": "user-venv"
  },
  "language_info": {
   "codemirror_mode": {
    "name": "ipython",
    "version": 3
   },
   "file_extension": ".py",
   "mimetype": "text/x-python",
   "name": "python",
   "nbconvert_exporter": "python",
   "pygments_lexer": "ipython3",
   "version": "3.8.5"
  }
 },
 "nbformat": 4,
 "nbformat_minor": 5
}
